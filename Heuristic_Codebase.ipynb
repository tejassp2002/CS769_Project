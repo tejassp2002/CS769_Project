{
  "cells": [
    {
      "cell_type": "markdown",
      "metadata": {
        "id": "K7WEEHoVemN5"
      },
      "source": [
        "# The Traveling Salesperson Problem\n",
        "\n",
        "Consider the [*Traveling Salesperson Problem*](http://en.wikipedia.org/wiki/Traveling_salesman_problem) (or TSP): \n",
        "\n",
        "> *Given a set of cities and the distance between each pair of cities, what is the shortest possible tour that visits each city exactly once, and returns to the starting city?*\n",
        "\n",
        "In this notebook we will develop some solutions to the problem, and more generally show *how to think about* solving  problems. The algorithms developed here are used in [serious applications](https://research.googleblog.com/2016/09/the-280-year-old-algorithm-inside.html) that millions of people rely on every day.\n",
        "\n",
        "|![](http://support.sas.com/documentation/cdl/en/ornoaug/66084/HTML/default/images/map002g.png)|\n",
        "|---|\n",
        "|[An example tour](http://www.math.uwaterloo.ca/tsp/history/pictorial/dfj.html)|\n",
        "\n",
        "Do we understand the problem statement well enough to program a solution? Let's check:\n",
        "\n",
        "- ***Given a set of cities***\n",
        "<br>A Python `set` could represent a set of cities. An individual city might be just an integer index, or it might be (x, y) coordinates.\n",
        "- ... ***and the distance between each pair of cities***: \n",
        "<br>We could use either a function, `distance(A, B),` or a table, `distance[A, B]`.\n",
        "- ... ***what is the shortest possible tour***\n",
        "<br>A tour is a sequential order in which to visit the cities; a function `shortest_tour(tours)` should find the one that minimizes `tour_length(tour)`, which is the sum of the distances between adjacent cities in the tour. \n",
        "- ... ***that visits each city once and returns to the starting city***\n",
        "<br>Make sure a tour doesn't re-visit a city (except returning to the start). \n",
        "\n",
        "\n",
        "\n",
        "I don't yet have all the answers, but I'm ready to attack the problem. "
      ]
    },
    {
      "cell_type": "code",
      "execution_count": null,
      "metadata": {
        "id": "91gmk8tFemOK"
      },
      "outputs": [],
      "source": [
        "# Imports used in this notebook. This is Python 3 on Jupyter with matplotlib.\n",
        "%matplotlib inline\n",
        "import matplotlib.pyplot as plt\n",
        "import random\n",
        "from time        import clock \n",
        "from itertools   import permutations, combinations\n",
        "from functools   import lru_cache as cache\n",
        "from collections import Counter\n",
        "from statistics  import mean, median"
      ]
    },
    {
      "cell_type": "markdown",
      "metadata": {
        "id": "SqaHdnQaemOP"
      },
      "source": [
        "# Exhaustive Search Algorithm: `exhaustive_tsp`"
      ]
    },
    {
      "cell_type": "markdown",
      "metadata": {
        "id": "4ZKqbbWIemOR"
      },
      "source": [
        "Let's start with an algorithm that is *guaranteed* to solve the problem, although inefficiently:\n",
        "\n",
        "> **Exhaustive Search Algorithm**: *Generate all possible tours of the cities, and choose the shortest tour (the one with minimum tour length).*\n",
        "\n",
        "My design philosophy is to first write an English description of the algorithm (as above), then write Python code that closely mirrors the English description. This will probably require some auxilliary functions and data structures; just assume they exist; put them on a TO DO list, and eventually define them with the same design philosophy:"
      ]
    },
    {
      "cell_type": "code",
      "execution_count": null,
      "metadata": {
        "id": "q8LyItsZemOU"
      },
      "outputs": [],
      "source": [
        "def exhaustive_tsp(cities):\n",
        "    \"Generate all possible tours of the cities and choose the shortest tour.\"\n",
        "    return shortest_tour(alltours(cities))\n",
        "\n",
        "def shortest_tour(tours): return min(tours, key=tour_length)\n",
        "\n",
        "# TO DO: Data types: City, Cities, Tour; Functions: alltours, tour_length"
      ]
    },
    {
      "cell_type": "markdown",
      "metadata": {
        "id": "w2ZxcedbemOY"
      },
      "source": [
        "This gives us a good start; the Python code closely matches the English description.  Now for the TO DO list.\n",
        "\n",
        "**Tours:** A tour that starts in city `1`, moves to `2`, then `3`, then back to `1` will be represented by  `(1, 2, 3)`. Any valid tour of a set of cities will be a *permutation* of the cities. That means we can implement `alltours` with the built-in `permutations` function (from the `itertools` module). \n",
        "The length of a tour is the sum of the distances between adjacent cities in the tour&mdash;the sum of the lengths of the **links** between cities in the tour. \n",
        "\n",
        "**Cities:** the only thing we need to know about a city is its distance to other cities. We don't need to know the city's name, population, best restaurants, or anything else.  We'll assume the distance between two cities is the [Euclidean distance](http://en.wikipedia.org/wiki/Euclidean_distance), the straight-line distance between points in a two-dimensional plane. So I want `City(300, 100)` to be the city with x-coordinate 300 and y coordinate 100. At first glance it seems like Python does not have a builtin type for a point in the two-dimensional plane, but actually there is one: complex numbers. I'll implement `City` with `complex`, which means the distance between two cities, `distance(A, B)`, is the absolute value of the vector difference between them. \n",
        "I'll also define `Cities(n)` to make a set of `n` random cities. I want `Cities(n)` to be reproducible (to return the same result when called with the same arguments), so I provide an optional argument that sets `random.seed`. "
      ]
    },
    {
      "cell_type": "code",
      "execution_count": null,
      "metadata": {
        "id": "Bx_GQc7yemOb"
      },
      "outputs": [],
      "source": [
        "alltours = permutations \n",
        "\n",
        "def tour_length(tour):\n",
        "    \"\"\"The total of distances between each pair of consecutive cities in the tour.\n",
        "    This includes the last-to-first, distance(tour[-1], tour[0])\"\"\"\n",
        "    return sum(distance(tour[i - 1], tour[i]) \n",
        "               for i in range(len(tour)))\n",
        "\n",
        "City = complex\n",
        "\n",
        "def distance(A, B): return abs(A - B)\n",
        "\n",
        "def Cities(n, seed=123, width=999, height=666):\n",
        "    \"Make a set of n cities, sampled uniformly from a (width x height) rectangle.\"\n",
        "    random.seed((n, seed))\n",
        "    return frozenset(City(random.randint(1, width), random.randint(1, height))\n",
        "                     for c in range(n))"
      ]
    },
    {
      "cell_type": "markdown",
      "metadata": {
        "id": "oOrYYIZBemOe"
      },
      "source": [
        "# A solution!\n",
        "\n",
        "Now we're ready: `exhaustive_tsp` can find a tour for a set of cities:"
      ]
    },
    {
      "cell_type": "code",
      "execution_count": null,
      "metadata": {
        "id": "CtOOLPezemOf",
        "outputId": "b4cd6a7f-f262-46f5-c121-90969a81d34e",
        "colab": {
          "base_uri": "https://localhost:8080/"
        }
      },
      "outputs": [
        {
          "output_type": "execute_result",
          "data": {
            "text/plain": [
              "((2+557j),\n",
              " (564+539j),\n",
              " (603+568j),\n",
              " (812+511j),\n",
              " (805+473j),\n",
              " (951+356j),\n",
              " (716+194j),\n",
              " (732+83j),\n",
              " (334+236j),\n",
              " (42+58j))"
            ]
          },
          "metadata": {},
          "execution_count": 10
        }
      ],
      "source": [
        "exhaustive_tsp(Cities(10))"
      ]
    },
    {
      "cell_type": "markdown",
      "metadata": {
        "id": "_CMrRqd_emOk"
      },
      "source": [
        "Quick, is that the shortest tour?  I can't tell. But this should help:\n",
        "\n",
        "## Visualizing results: `plot_tour` and `do`\n"
      ]
    },
    {
      "cell_type": "code",
      "execution_count": null,
      "metadata": {
        "id": "71yiWP-oemOl"
      },
      "outputs": [],
      "source": [
        "def plot_tour(tour, style='bo-'): \n",
        "    \"Plot every city and link in the tour, and highlight start city.\"\n",
        "    if len(tour) > 1000: plt.figure(figsize=(15, 10))\n",
        "    start = tour[0:1]\n",
        "    plot_segment(tour + start, style)\n",
        "    plot_segment(start, 'rD') # start city is red Diamond.\n",
        "    \n",
        "def plot_segment(segment, style='bo-'):\n",
        "    \"Plot every city and link in the segment.\"\n",
        "    plt.plot([X(c) for c in segment], [Y(c) for c in segment], style, clip_on=False)\n",
        "    plt.axis('scaled')\n",
        "    plt.axis('off')\n",
        "    \n",
        "def X(city): \"X coordinate.\"; return city.real\n",
        "def Y(city): \"Y coordinate.\"; return city.imag"
      ]
    },
    {
      "cell_type": "code",
      "execution_count": null,
      "metadata": {
        "id": "nL6Uq1Q3emOn",
        "outputId": "f8b3ee6b-e2a3-48ce-905c-5e5da0f5eb98",
        "colab": {
          "base_uri": "https://localhost:8080/",
          "height": 229
        }
      },
      "outputs": [
        {
          "output_type": "display_data",
          "data": {
            "text/plain": [
              "<Figure size 432x288 with 1 Axes>"
            ],
            "image/png": "[encoded data removed]"
          },
          "metadata": {
            "needs_background": "light"
          }
        }
      ],
      "source": [
        "plot_tour(exhaustive_tsp(Cities(9)))"
      ]
    },
    {
      "cell_type": "markdown",
      "metadata": {
        "id": "WeyylL5NemOo"
      },
      "source": [
        "That looks much better!  It certainly looks like the shortest possible tour, although I can't prove it. \n",
        "\n",
        "*Vocabulary note:* A **segment** is a portion of a tour that does not loop back to the start. The **segment** `(1, 2, 3)` has only two links, 1-2 and 2-3, whereas the **tour** `(1, 2, 3)` has three links, because it includes the link back to the start, 3-1.\n",
        "\n",
        "One more convenience: the function `do` runs a TSP algorithm on a set of cities, plots the tour, asserts it is valid, and prints summary information. "
      ]
    },
    {
      "cell_type": "code",
      "execution_count": null,
      "metadata": {
        "id": "RCogkOspemOp"
      },
      "outputs": [],
      "source": [
        "def do(algorithm, cities):\n",
        "    \"Apply a TSP algorithm to cities, plot the result, and print info.\"\n",
        "    t0   = clock()\n",
        "    tour = algorithm(cities)\n",
        "    t1   = clock()\n",
        "    assert Counter(tour) == Counter(cities) # Every city appears exactly once in tour\n",
        "    plot_tour(tour)\n",
        "    print(\"{}: {} cities ⇒ tour length {:.0f} (in {:.3f} sec)\".format(\n",
        "          name(algorithm), len(tour), tour_length(tour), t1 - t0))\n",
        "    \n",
        "def name(algorithm): return algorithm.__name__.replace('_tsp', '')"
      ]
    },
    {
      "cell_type": "code",
      "execution_count": null,
      "metadata": {
        "id": "w_9GOfvHemOq",
        "outputId": "b20652fb-9e27-42c2-8e60-3ed39bb41836",
        "colab": {
          "base_uri": "https://localhost:8080/",
          "height": 336
        }
      },
      "outputs": [
        {
          "output_type": "stream",
          "name": "stderr",
          "text": [
            "/usr/local/lib/python3.7/dist-packages/ipykernel_launcher.py:3: DeprecationWarning: time.clock has been deprecated in Python 3.3 and will be removed from Python 3.8: use time.perf_counter or time.process_time instead\n",
            "  This is separate from the ipykernel package so we can avoid doing imports until\n"
          ]
        },
        {
          "output_type": "stream",
          "name": "stdout",
          "text": [
            "exhaustive: 9 cities ⇒ tour length 2450 (in 1.310 sec)\n"
          ]
        },
        {
          "output_type": "stream",
          "name": "stderr",
          "text": [
            "/usr/local/lib/python3.7/dist-packages/ipykernel_launcher.py:5: DeprecationWarning: time.clock has been deprecated in Python 3.3 and will be removed from Python 3.8: use time.perf_counter or time.process_time instead\n",
            "  \"\"\"\n"
          ]
        },
        {
          "output_type": "display_data",
          "data": {
            "text/plain": [
              "<Figure size 432x288 with 1 Axes>"
            ],
            "image/png": "[encoded data removed]"
          },
          "metadata": {
            "needs_background": "light"
          }
        }
      ],
      "source": [
        "do(exhaustive_tsp, Cities(9))"
      ]
    },
    {
      "cell_type": "markdown",
      "metadata": {
        "id": "ObUved_remOr"
      },
      "source": [
        "## Optimization: non-redundant  `alltours`"
      ]
    },
    {
      "cell_type": "markdown",
      "metadata": {
        "id": "fJw1VWNGemOr"
      },
      "source": [
        "We said there are *n*! tours of *n* cities, and thus 6 tours of 3 cities:"
      ]
    },
    {
      "cell_type": "code",
      "execution_count": null,
      "metadata": {
        "id": "C5AXgXP7emOs",
        "outputId": "1d2746d5-fbeb-46bf-b1e6-0fe8bef02d85"
      },
      "outputs": [
        {
          "data": {
            "text/plain": [
              "[(1, 2, 3), (1, 3, 2), (2, 1, 3), (2, 3, 1), (3, 1, 2), (3, 2, 1)]"
            ]
          },
          "execution_count": 9,
          "metadata": {},
          "output_type": "execute_result"
        }
      ],
      "source": [
        "list(alltours({1, 2, 3}))"
      ]
    },
    {
      "cell_type": "markdown",
      "metadata": {
        "id": "vPm41RBCemOs"
      },
      "source": [
        "But this is redundant: `(1, 2, 3)`, `(2, 3, 1)`, and `(3, 1, 2)` are three ways of describing the same tour. So let's arbitrarily say that a tour must start with the first city in the set of cities.  While we're redefining `alltours`, we'll take the opportunity to define a tour as a *list* rather than a *tuple*. It doesn't matter now, but I anticipate wanting to represent *partial* tours, to which we will append cities one by one; appending can be done to lists, but not tuples."
      ]
    },
    {
      "cell_type": "code",
      "execution_count": null,
      "metadata": {
        "id": "0oxbtqzJemOt"
      },
      "outputs": [],
      "source": [
        "def alltours(cities):\n",
        "    \"Return a list of non-redundant tours (permutations of cities).\"\n",
        "    start, *others = cities\n",
        "    return [[start] + Tour(perm) for perm in permutations(others)]\n",
        "    \n",
        "Tour = list  # A Tour is a list of cities"
      ]
    },
    {
      "cell_type": "markdown",
      "metadata": {
        "id": "WOmmvqTWemOt"
      },
      "source": [
        "We can verify that for 3 cities there are now only 2 tours, and that `exhaustive_tsp` can now do 10 cities in about the time it took to do 9 before:"
      ]
    },
    {
      "cell_type": "code",
      "execution_count": null,
      "metadata": {
        "id": "UhRI49RuemOu",
        "outputId": "587b89b9-b1dc-46cf-f9ed-4e2c3a59168f"
      },
      "outputs": [
        {
          "data": {
            "text/plain": [
              "[[1, 2, 3], [1, 3, 2]]"
            ]
          },
          "execution_count": 11,
          "metadata": {},
          "output_type": "execute_result"
        }
      ],
      "source": [
        "alltours({1, 2, 3})"
      ]
    },
    {
      "cell_type": "code",
      "execution_count": null,
      "metadata": {
        "id": "ipVc5c0pemOu",
        "outputId": "b6dda9f2-9660-407b-a074-6833ed3b686e"
      },
      "outputs": [
        {
          "name": "stdout",
          "output_type": "stream",
          "text": [
            "exhaustive: 10 cities ⇒ tour length 2720 (in 1.466 sec)\n"
          ]
        },
        {
          "data": {
            "image/png": "[encoded data removed]",
            "text/plain": [
              "<matplotlib.figure.Figure at 0x114d33cf8>"
            ]
          },
          "metadata": {},
          "output_type": "display_data"
        }
      ],
      "source": [
        "do(exhaustive_tsp, Cities(10))"
      ]
    },
    {
      "cell_type": "markdown",
      "metadata": {
        "id": "YQFwE9ivemOv"
      },
      "source": [
        "# General Strategies\n",
        "\n",
        "It takes Exhaustive Search 1 or 2 seconds to solve a 10-city problem. Since it looks at all permutations, an 11-city problem would take about 11 times longer, and a 15-city problem would take days.\n",
        "There must be a better way ... \n",
        "\n",
        "To get inspired, here are some general  strategies for algorithm design: \n",
        "\n",
        "* **Brute Force Strategy**: The strategy used for `exhaustive_tsp`; as [Ken Thompson](https://en.wikipedia.org/wiki/Ken_Thompson) [says](https://www.brainyquote.com/quotes/ken_thompson_185574?src=t_brute_force), *\"when in doubt, use brute force.\"*\n",
        "* **Approximation Strategy**: If it is too hard to find a precise, optimal solution, consider finding an approximate, suboptimal solution.\n",
        "* **Greeedy Strategy**: To complete a multiple step problem, first do the step that has the best gain. Repeat. \n",
        "* **Iterative Improvement Strategy**: Use an existing algorithm to create a solution, then have another algorithm improve the solution.\n",
        "* **Ensemble Strategy**: Apply a set of algorithms to the problem, and pick the best solution. \n",
        "* **Divide and Conquer Strategy**: Split the problem in half, solve each half, and combine the two partial solutions.\n",
        "* **Stand on the Shoulders of Giants Strategy**: Find out what other people have done, and copy (or modify).\n",
        "\n",
        "Let's apply these strategies to develop some TSP algorithms.\n"
      ]
    },
    {
      "cell_type": "markdown",
      "metadata": {
        "id": "LweOrkjPemOw"
      },
      "source": [
        "# Nearest Neighbor Algorithm: `nn_tsp`\n",
        "\n",
        "> **Nearest Neighbor Algorithm:** *Start at some city; at each step extend the tour by moving from the previous city to its nearest neighbor that has not yet been visited.*\n",
        "\n",
        "This is an instance of both the **approximation strategy** and the **greedy strategy**, where we are being greedy about choosing the shortest link to a neighbor. So now, instead of considering all *n*! tours, we incrementally build a single tour. \n",
        "In  more detail:\n",
        "\n",
        "* ***Start at some city***  (pass the start city as an argument, or if `None`, use the first city in the set)\n",
        "* ***... at each step extend the tour*** (using `tour.append`)\n",
        "* ***... by moving from the previous city*** (`C`)\n",
        "* ***...to its nearest neighbor*** (as given by the function `nearest_neighbor`)\n",
        "* ***...that has not yet been visited*** (I will maintain a set of `unvisited` cities)"
      ]
    },
    {
      "cell_type": "code",
      "execution_count": null,
      "metadata": {
        "id": "KqpPGkMnemOw"
      },
      "outputs": [],
      "source": [
        "def nn_tsp(cities, start=None):\n",
        "    \"\"\"Start the tour at the given start city (default: first city); \n",
        "    at each step extend the tour by moving from the previous city \n",
        "    to its nearest neighbor that has not yet been visited.\"\"\"\n",
        "    C = start or first(cities)\n",
        "    tour = [C]\n",
        "    unvisited = set(cities - {C})\n",
        "    while unvisited:\n",
        "        C = nearest_neighbor(C, unvisited)\n",
        "        tour.append(C)\n",
        "        unvisited.remove(C)\n",
        "    return tour\n",
        "\n",
        "def first(collection): return next(iter(collection))\n",
        "\n",
        "def nearest_neighbor(A, cities):\n",
        "    \"Find the city in cities that is nearest to city A.\"\n",
        "    return min(cities, key=lambda C: distance(C, A))"
      ]
    },
    {
      "cell_type": "code",
      "source": [
        "def nn(cities,start=None,unvisited=[],tour=[]):\n",
        "  if len(tour)==0:\n",
        "    unvisited=cities\n",
        "    start=cities[0]\n",
        "    unvisited.remove(start)\n",
        "    tour=[start]\n",
        "  \n",
        "\n",
        "  init=start\n",
        "  \n",
        "  \n",
        "  min_dist = 1000000\n",
        "  for node in unvisited:\n",
        "    if(min_dist> distance(init,node)):\n",
        "      min_dist=distance(init,node)\n",
        "      min_node=node\n",
        "  unvisited.remove(min_node)\n",
        "\n",
        "  tour.append(min_node)\n",
        "  if(len(unvisited)==0):\n",
        "    return tour\n",
        "  tour=nn(cities,min_node,unvisited,tour)\n",
        "  return(tour)\n",
        "  \n",
        "    \n",
        "\n",
        "\n",
        "  \n",
        "\n",
        "\n"
      ],
      "metadata": {
        "id": "JmC_JkdH6Wdq"
      },
      "execution_count": null,
      "outputs": []
    },
    {
      "cell_type": "code",
      "source": [
        "cities_20"
      ],
      "metadata": {
        "colab": {
          "base_uri": "https://localhost:8080/"
        },
        "id": "rgq-UuwVlpfU",
        "outputId": "deec1246-9f73-4a4a-f252-1fd7e613f682"
      },
      "execution_count": null,
      "outputs": [
        {
          "output_type": "execute_result",
          "data": {
            "text/plain": [
              "[]"
            ]
          },
          "metadata": {},
          "execution_count": 148
        }
      ]
    },
    {
      "cell_type": "code",
      "source": [
        "plot_tour(nn(cities_20))"
      ],
      "metadata": {
        "colab": {
          "base_uri": "https://localhost:8080/",
          "height": 287
        },
        "id": "zljRghegDpBk",
        "outputId": "b4a040c5-18d6-44f4-e8b2-f56c5b10238d"
      },
      "execution_count": null,
      "outputs": [
        {
          "output_type": "error",
          "ename": "IndexError",
          "evalue": "ignored",
          "traceback": [
            "\u001b[0;31m---------------------------------------------------------------------------\u001b[0m",
            "\u001b[0;31mIndexError\u001b[0m                                Traceback (most recent call last)",
            "\u001b[0;32m<ipython-input-147-788e9a72d3a0>\u001b[0m in \u001b[0;36m<module>\u001b[0;34m()\u001b[0m\n\u001b[0;32m----> 1\u001b[0;31m \u001b[0mplot_tour\u001b[0m\u001b[0;34m(\u001b[0m\u001b[0mnn\u001b[0m\u001b[0;34m(\u001b[0m\u001b[0mcities_20\u001b[0m\u001b[0;34m)\u001b[0m\u001b[0;34m)\u001b[0m\u001b[0;34m\u001b[0m\u001b[0;34m\u001b[0m\u001b[0m\n\u001b[0m",
            "\u001b[0;32m<ipython-input-81-902151bdb6bf>\u001b[0m in \u001b[0;36mnn\u001b[0;34m(cities, start, unvisited, tour)\u001b[0m\n\u001b[1;32m      2\u001b[0m   \u001b[0;32mif\u001b[0m \u001b[0mlen\u001b[0m\u001b[0;34m(\u001b[0m\u001b[0mtour\u001b[0m\u001b[0;34m)\u001b[0m\u001b[0;34m==\u001b[0m\u001b[0;36m0\u001b[0m\u001b[0;34m:\u001b[0m\u001b[0;34m\u001b[0m\u001b[0;34m\u001b[0m\u001b[0m\n\u001b[1;32m      3\u001b[0m     \u001b[0munvisited\u001b[0m\u001b[0;34m=\u001b[0m\u001b[0mcities\u001b[0m\u001b[0;34m\u001b[0m\u001b[0;34m\u001b[0m\u001b[0m\n\u001b[0;32m----> 4\u001b[0;31m     \u001b[0mstart\u001b[0m\u001b[0;34m=\u001b[0m\u001b[0mcities\u001b[0m\u001b[0;34m[\u001b[0m\u001b[0;36m0\u001b[0m\u001b[0;34m]\u001b[0m\u001b[0;34m\u001b[0m\u001b[0;34m\u001b[0m\u001b[0m\n\u001b[0m\u001b[1;32m      5\u001b[0m     \u001b[0munvisited\u001b[0m\u001b[0;34m.\u001b[0m\u001b[0mremove\u001b[0m\u001b[0;34m(\u001b[0m\u001b[0mstart\u001b[0m\u001b[0;34m)\u001b[0m\u001b[0;34m\u001b[0m\u001b[0;34m\u001b[0m\u001b[0m\n\u001b[1;32m      6\u001b[0m     \u001b[0mtour\u001b[0m\u001b[0;34m=\u001b[0m\u001b[0;34m[\u001b[0m\u001b[0mstart\u001b[0m\u001b[0;34m]\u001b[0m\u001b[0;34m\u001b[0m\u001b[0;34m\u001b[0m\u001b[0m\n",
            "\u001b[0;31mIndexError\u001b[0m: list index out of range"
          ]
        }
      ]
    },
    {
      "cell_type": "code",
      "source": [
        "def ni(cities,unvisited=[],tour=[]):\n",
        "  if len(tour)==0:\n",
        "    unvisited=cities\n",
        "    start=cities[0]\n",
        "    unvisited.remove(start)\n",
        "    tour=[start]\n",
        "    min_dist = 1000000\n",
        "    for node in unvisited:\n",
        "      if(min_dist> distance(start,node)):\n",
        "        min_dist=distance(start,node)\n",
        "        min_node=node\n",
        "    unvisited.remove(min_node)\n",
        "\n",
        "    tour.append(min_node)\n",
        "    tour.append(start)\n",
        "  \n",
        "\n",
        "\n",
        "\n",
        "\n",
        "  \n",
        "  \n",
        "  \n",
        "  min_dist = 1000000\n",
        "  for node in tour:\n",
        "    for point in unvisited:\n",
        "      if min_dist > distance(node,point):\n",
        "        min_dist=distance(node,point)\n",
        "        j=node\n",
        "        k=point\n",
        "  ind=tour.index(j)\n",
        "  if(ind==0):\n",
        "    tour.insert(ind+1,k)\n",
        "  elif(ind==len(tour)):\n",
        "    tour.insert(ind,k)\n",
        "  else:\n",
        "\n",
        "    if(distance(tour[ind-1],k)+distance(j,k)-distance(tour[ind-1],j)<distance(tour[ind+1],k)+distance(j,k)-distance(tour[ind+1],j)):\n",
        "      tour.insert(ind,k)\n",
        "    else:\n",
        "      tour.insert(ind+1,k)\n",
        "\n",
        "  unvisited.remove(k)\n",
        "  if(len(unvisited)==0):\n",
        "    tour.pop(len(tour)-1)\n",
        "    return tour\n",
        "  tour=ni(cities,unvisited,tour)\n",
        "  return(tour)\n",
        "\n"
      ],
      "metadata": {
        "id": "PeTvsq82GDjr"
      },
      "execution_count": null,
      "outputs": []
    },
    {
      "cell_type": "code",
      "source": [
        "def fi(cities,unvisited=[],tour=[]):\n",
        "  if len(tour)==0:\n",
        "    unvisited=cities\n",
        "    start=cities[0]\n",
        "    unvisited.remove(start)\n",
        "    tour=[start]\n",
        "    max_dist = 0\n",
        "    for node in unvisited:\n",
        "      if(max_dist< distance(start,node)):\n",
        "        max_dist=distance(start,node)\n",
        "        max_node=node\n",
        "    unvisited.remove(max_node)\n",
        "\n",
        "    tour.append(max_node)\n",
        "    tour.append(start)\n",
        "  \n",
        "\n",
        "\n",
        "\n",
        "\n",
        "  \n",
        "  \n",
        "  \n",
        "  max_dist=0\n",
        "  for node in tour:\n",
        "    for point in unvisited:\n",
        "      if max_dist < distance(node,point):\n",
        "        max_dist=distance(node,point)\n",
        "        j=node\n",
        "        k=point\n",
        "  ind=tour.index(j)\n",
        "  if(ind==0):\n",
        "    tour.insert(ind+1,k)\n",
        "  elif(ind==len(tour)):\n",
        "    tour.insert(ind,k)\n",
        "  else:\n",
        "\n",
        "    if(distance(tour[ind-1],k)+distance(j,k)-distance(tour[ind-1],j)<distance(tour[ind+1],k)+distance(j,k)-distance(tour[ind+1],j)):\n",
        "      tour.insert(ind,k)\n",
        "    else:\n",
        "      tour.insert(ind+1,k)\n",
        "\n",
        "  unvisited.remove(k)\n",
        "  if(len(unvisited)==0):\n",
        "    tour.pop(len(tour)-1)\n",
        "    return tour\n",
        "  tour=ni(cities,unvisited,tour)\n",
        "  return(tour)\n",
        "\n"
      ],
      "metadata": {
        "id": "0mt42OUeuF2G"
      },
      "execution_count": null,
      "outputs": []
    },
    {
      "cell_type": "code",
      "source": [
        "A=[[0.0847, 0.7269],[0.7361, 0.1605],\n",
        "         [0.9198, 0.0311],\n",
        "         [0.4575, 0.9177],\n",
        "         [0.0835, 0.5867],\n",
        "         [0.2354, 0.6003],\n",
        "         [0.8378, 0.9844],\n",
        "         [0.0393, 0.0155],\n",
        "         [0.4827, 0.8993],\n",
        "         [0.8403, 0.5519],\n",
        "         [0.1119, 0.3856],\n",
        "         [0.7297, 0.9066],\n",
        "         [0.9622, 0.5414],\n",
        "         [0.5362, 0.8116],\n",
        "         [0.4272, 0.3807],\n",
        "         [0.8760, 0.3020],\n",
        "         [0.3286, 0.3556],\n",
        "         [0.3444, 0.4988],\n",
        "         [0.3374, 0.1971],\n",
        "         [0.3366, 0.1448]]"
      ],
      "metadata": {
        "id": "UZOa5ERFkNfr"
      },
      "execution_count": null,
      "outputs": []
    },
    {
      "cell_type": "code",
      "source": [
        "B=[[0.98178956, 0.85290368],\n",
        "       [0.32957467, 0.77460681],\n",
        "       [0.47438555, 0.71934997],\n",
        "       [0.84832471, 0.20660406],\n",
        "       [0.33716572, 0.9086677 ],\n",
        "       [0.24988884, 0.04178222],\n",
        "       [0.78978294, 0.66200975],\n",
        "       [0.64642595, 0.19886048],\n",
        "       [0.86799475, 0.98037355],\n",
        "       [0.48570521, 0.46649003],\n",
        "       [0.99985267, 0.97950295],\n",
        "       [0.55856666, 0.76262949],\n",
        "       [0.12054761, 0.47436863],\n",
        "       [0.92677399, 0.49684756],\n",
        "       [0.22679549, 0.70736706],\n",
        "       [0.42729099, 0.24275127],\n",
        "       [0.56308052, 0.15954431],\n",
        "       [0.2685579 , 0.62842118],\n",
        "       [0.8726062 , 0.19644389],\n",
        "       [0.97455995, 0.553165  ],\n",
        "       [0.93378434, 0.17935879],\n",
        "       [0.70467082, 0.89494362],\n",
        "       [0.24149255, 0.06403824],\n",
        "       [0.94723555, 0.01164163],\n",
        "       [0.46845477, 0.47548569],\n",
        "       [0.30607817, 0.82159729],\n",
        "       [0.37846578, 0.44652046],\n",
        "       [0.28033853, 0.00567806],\n",
        "       [0.46122047, 0.02491802],\n",
        "       [0.30092774, 0.05225357],\n",
        "       [0.71867188, 0.41761312],\n",
        "       [0.48545053, 0.58206286],\n",
        "       [0.77775212, 0.64874626],\n",
        "       [0.02657183, 0.23564186],\n",
        "       [0.70677095, 0.01544156],\n",
        "       [0.6517195 , 0.52446091],\n",
        "       [0.50939762, 0.09065213],\n",
        "       [0.53230855, 0.618236  ],\n",
        "       [0.54710366, 0.90301115],\n",
        "       [0.98857465, 0.4774034 ],\n",
        "       [0.24236493, 0.5519935 ],\n",
        "       [0.838511  , 0.38133546],\n",
        "       [0.35329976, 0.17742121],\n",
        "       [0.38249277, 0.8967336 ],\n",
        "       [0.90465638, 0.15576542],\n",
        "       [0.05561899, 0.0144668 ],\n",
        "       [0.9705792 , 0.14100395],\n",
        "       [0.64370484, 0.43618211],\n",
        "       [0.65190583, 0.44931843],\n",
        "       [0.73379474, 0.43607761]]"
      ],
      "metadata": {
        "id": "CSRJvLySqE2E"
      },
      "execution_count": null,
      "outputs": []
    },
    {
      "cell_type": "code",
      "source": [
        "cities_20=[]\n",
        "for a in A:\n",
        "  cities_20.append(complex(a[0],a[1]))\n",
        "  \n",
        "  \n",
        "\n"
      ],
      "metadata": {
        "id": "U3r5zE6CkTMg"
      },
      "execution_count": null,
      "outputs": []
    },
    {
      "cell_type": "code",
      "source": [
        "ct=frozenset(cities_20)"
      ],
      "metadata": {
        "id": "XhvD3Wy3l2xE"
      },
      "execution_count": null,
      "outputs": []
    },
    {
      "cell_type": "code",
      "source": [
        "tour_length(nn(list(ct)))"
      ],
      "metadata": {
        "colab": {
          "base_uri": "https://localhost:8080/"
        },
        "id": "t5C2b-wHn0D5",
        "outputId": "6c9f2946-acdf-431e-e378-73897cc1ad4a"
      },
      "execution_count": null,
      "outputs": [
        {
          "output_type": "execute_result",
          "data": {
            "text/plain": [
              "5.106279725789029"
            ]
          },
          "metadata": {},
          "execution_count": 173
        }
      ]
    },
    {
      "cell_type": "code",
      "source": [
        "print(tour_length(nn(list(ct))))\n",
        "plot_tour(nn(list(ct)))"
      ],
      "metadata": {
        "colab": {
          "base_uri": "https://localhost:8080/",
          "height": 265
        },
        "id": "42_6v5OxtskD",
        "outputId": "4a0ef49e-4abd-41ff-db4e-b08e40bb0870"
      },
      "execution_count": null,
      "outputs": [
        {
          "output_type": "stream",
          "name": "stdout",
          "text": [
            "5.106279725789029\n"
          ]
        },
        {
          "output_type": "display_data",
          "data": {
            "text/plain": [
              "<Figure size 432x288 with 1 Axes>"
            ],
            "image/png": "[encoded data removed]"
          },
          "metadata": {
            "needs_background": "light"
          }
        }
      ]
    },
    {
      "cell_type": "code",
      "source": [
        "print(tour_length(ni(list(ct))))\n",
        "plot_tour(ni(list(ct)))"
      ],
      "metadata": {
        "colab": {
          "base_uri": "https://localhost:8080/",
          "height": 265
        },
        "id": "62B_bOy1tws_",
        "outputId": "35d483a1-1ba6-49c8-ea26-a6f7253df0f7"
      },
      "execution_count": null,
      "outputs": [
        {
          "output_type": "stream",
          "name": "stdout",
          "text": [
            "5.246416708546988\n"
          ]
        },
        {
          "output_type": "display_data",
          "data": {
            "text/plain": [
              "<Figure size 432x288 with 1 Axes>"
            ],
            "image/png": "[encoded data removed]"
          },
          "metadata": {
            "needs_background": "light"
          }
        }
      ]
    },
    {
      "cell_type": "code",
      "source": [
        "print(tour_length(fi(list(ct))))\n",
        "plot_tour(fi(list(ct)))"
      ],
      "metadata": {
        "colab": {
          "base_uri": "https://localhost:8080/",
          "height": 265
        },
        "id": "vVsLgvFiud24",
        "outputId": "acf2f3e1-75de-4960-ea75-0b8d9c96d538"
      },
      "execution_count": null,
      "outputs": [
        {
          "output_type": "stream",
          "name": "stdout",
          "text": [
            "5.82506833581814\n"
          ]
        },
        {
          "output_type": "display_data",
          "data": {
            "text/plain": [
              "<Figure size 432x288 with 1 Axes>"
            ],
            "image/png": "[encoded data removed]"
          },
          "metadata": {
            "needs_background": "light"
          }
        }
      ]
    },
    {
      "cell_type": "code",
      "source": [
        "print(tour_length(nn(list(ct2))))\n",
        "plot_tour(nn(list(ct2)))"
      ],
      "metadata": {
        "colab": {
          "base_uri": "https://localhost:8080/",
          "height": 265
        },
        "id": "cUzRzb_Tt2ce",
        "outputId": "c449f151-8788-449e-a8b7-211afafa578d"
      },
      "execution_count": null,
      "outputs": [
        {
          "output_type": "stream",
          "name": "stdout",
          "text": [
            "7.293683518654799\n"
          ]
        },
        {
          "output_type": "display_data",
          "data": {
            "text/plain": [
              "<Figure size 432x288 with 1 Axes>"
            ],
            "image/png": "[encoded data removed]"
          },
          "metadata": {
            "needs_background": "light"
          }
        }
      ]
    },
    {
      "cell_type": "code",
      "source": [
        "print(tour_length(ni(list(ct2))))\n",
        "plot_tour(ni(list(ct2)))"
      ],
      "metadata": {
        "colab": {
          "base_uri": "https://localhost:8080/",
          "height": 265
        },
        "id": "8Dq2ppVot4ji",
        "outputId": "c9ab2e42-bf5b-4441-8fba-16f7035df71b"
      },
      "execution_count": null,
      "outputs": [
        {
          "output_type": "stream",
          "name": "stdout",
          "text": [
            "7.378830723247454\n"
          ]
        },
        {
          "output_type": "display_data",
          "data": {
            "text/plain": [
              "<Figure size 432x288 with 1 Axes>"
            ],
            "image/png": "[encoded data removed]"
          },
          "metadata": {
            "needs_background": "light"
          }
        }
      ]
    },
    {
      "cell_type": "code",
      "source": [
        "print(tour_length(fi(list(ct2))))\n",
        "plot_tour(fi(list(ct2)))"
      ],
      "metadata": {
        "id": "ICezIcR-vBd9",
        "outputId": "199dbe8a-861f-435f-cbe7-6acd9b5d5fdb",
        "colab": {
          "base_uri": "https://localhost:8080/",
          "height": 265
        }
      },
      "execution_count": null,
      "outputs": [
        {
          "output_type": "stream",
          "name": "stdout",
          "text": [
            "8.076204270930583\n"
          ]
        },
        {
          "output_type": "display_data",
          "data": {
            "text/plain": [
              "<Figure size 432x288 with 1 Axes>"
            ],
            "image/png": "[encoded data removed]"
          },
          "metadata": {
            "needs_background": "light"
          }
        }
      ]
    },
    {
      "cell_type": "code",
      "source": [
        "cities_50=[]\n",
        "for a in B:\n",
        "  cities_50.append(complex(a[0],a[1]))"
      ],
      "metadata": {
        "id": "TZEMrJzkoHdY"
      },
      "execution_count": null,
      "outputs": []
    },
    {
      "cell_type": "code",
      "source": [
        "ct2=frozenset(cities_50)"
      ],
      "metadata": {
        "id": "n5RLQrMXqo79"
      },
      "execution_count": null,
      "outputs": []
    },
    {
      "cell_type": "code",
      "source": [
        "tour_length(nn(list(ct2)))"
      ],
      "metadata": {
        "colab": {
          "base_uri": "https://localhost:8080/"
        },
        "id": "yCQIBfZlrZVg",
        "outputId": "7fb1996a-3ce3-47c3-9832-f5613b5b06b2"
      },
      "execution_count": null,
      "outputs": [
        {
          "output_type": "execute_result",
          "data": {
            "text/plain": [
              "7.293683518654799"
            ]
          },
          "metadata": {},
          "execution_count": 182
        }
      ]
    },
    {
      "cell_type": "code",
      "source": [
        "plot_tour(ni(list(ct2)))"
      ],
      "metadata": {
        "colab": {
          "base_uri": "https://localhost:8080/",
          "height": 248
        },
        "id": "uZy49Z2fsy3y",
        "outputId": "37f9b876-44f9-4bd4-c3a2-f2ac55660e5d"
      },
      "execution_count": null,
      "outputs": [
        {
          "output_type": "display_data",
          "data": {
            "text/plain": [
              "<Figure size 432x288 with 1 Axes>"
            ],
            "image/png": "[encoded data removed]"
          },
          "metadata": {
            "needs_background": "light"
          }
        }
      ]
    },
    {
      "cell_type": "code",
      "source": [
        "tour_length(ni(list(Cities(900))))"
      ],
      "metadata": {
        "colab": {
          "base_uri": "https://localhost:8080/"
        },
        "id": "iH9EYc50EOWF",
        "outputId": "4eccb0f2-a3c7-49cb-f24a-a1e840242b13"
      },
      "execution_count": null,
      "outputs": [
        {
          "output_type": "execute_result",
          "data": {
            "text/plain": [
              "23501.858787219066"
            ]
          },
          "metadata": {},
          "execution_count": 120
        }
      ]
    },
    {
      "cell_type": "code",
      "source": [
        "tour_length(nn(list(Cities(900))))"
      ],
      "metadata": {
        "colab": {
          "base_uri": "https://localhost:8080/"
        },
        "id": "IS0ICYxa75B_",
        "outputId": "abbcff7e-1585-4715-81a2-b3cdc1b74c3f"
      },
      "execution_count": null,
      "outputs": [
        {
          "output_type": "execute_result",
          "data": {
            "text/plain": [
              "22174.719257763478"
            ]
          },
          "metadata": {},
          "execution_count": 121
        }
      ]
    }
  ],
  "metadata": {
    "kernelspec": {
      "display_name": "Python 3",
      "language": "python",
      "name": "python3"
    },
    "language_info": {
      "codemirror_mode": {
        "name": "ipython",
        "version": 3
      },
      "file_extension": ".py",
      "mimetype": "text/x-python",
      "name": "python",
      "nbconvert_exporter": "python",
      "pygments_lexer": "ipython3",
      "version": "3.5.3"
    },
    "colab": {
      "name": "Heuristic_Codebase.ipynb",
      "provenance": [],
      "collapsed_sections": [
        "YQFwE9ivemOv",
        "1WxDaypsemOz",
        "mB2yIzsvemO2",
        "pR3oJWnJemO6",
        "qNjL0sVLemPB",
        "JwMstw8wemPF",
        "2RDUvoCVemPO",
        "SeH6SjmoemPS",
        "uqYV9kNuemPj",
        "ZAs73d3femPm",
        "WLthYr1nemPp",
        "q_N34rfjemPq",
        "s_otFa_XemP3",
        "vPfiyHQ1emP5",
        "Y89n7Jt9emQF",
        "rwQTEEKNemQH",
        "r_kM5TN-emQJ",
        "V7pxmarsemQQ",
        "h_YDb3TAemQU",
        "gdksmhT2emQY",
        "nWf6AIQwemQb"
      ]
    }
  },
  "nbformat": 4,
  "nbformat_minor": 0
}